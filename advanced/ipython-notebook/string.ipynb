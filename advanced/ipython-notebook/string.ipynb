{
 "cells": [
  {
   "cell_type": "code",
   "execution_count": null,
   "metadata": {
    "collapsed": true
   },
   "outputs": [],
   "source": [
    "#!/usr/bin/env python\n",
    "# -*- coding=utf-8 -*-\n",
    "\n",
    "\n",
    "from timeit import Timer\n",
    "\n",
    "\n",
    "import sys\n",
    "reload(sys)\n",
    "# sys.setdefaultencoding('utf-8')\n",
    "print sys.getdefaultencoding()\n",
    "\n",
    "unicode_test = u'测试test'\n",
    "utf8_test = '测试test'\n",
    "gbk_test = unicode_test.encode('gbk')\n",
    "\n",
    "\n",
    "# print '%stest' % unicode_test  # 不会报错\n",
    "# print '%s测试' % unicode_test  # 会报错\n",
    "#\n",
    "# print unicode_test % 'test'  # 不会报错\n",
    "# print unicode_test % '测试'  # 会报错\n",
    "#\n",
    "# print unicode_test.format('test')  # 不会报错\n",
    "# print unicode_test.format('测试')  # 会报错\n",
    "#\n",
    "# print unicode_test.split('test')  # 不会报错\n",
    "# print unicode_test.split('测试')  # 报错\n",
    "#\n",
    "# print unicode_test + 'test'  # 不会报错\n",
    "# print unicode_test + '测试'  # 会报错\n",
    "\n",
    "#合并unicode和utf-8\n",
    "# merge=unicode_test+utf8_test\n",
    "# print type(merge)\n",
    "# print repr(merge)\n",
    "#\n",
    "# 合并unicode和gbk\n",
    "merge = unicode_test + gbk_test.decode('gbk')\n",
    "# print type(merge)\n",
    "# print repr(merge)\n",
    "print merge\n",
    "\n",
    "#合并utf-8和gbk\n",
    "# merge=utf8_test+gbk_test\n",
    "# print type(merge)\n",
    "# print repr(merge)\n",
    "# print merge"
   ]
  }
 ],
 "metadata": {
  "kernelspec": {
   "display_name": "Python 2",
   "language": "python",
   "name": "python2"
  },
  "language_info": {
   "codemirror_mode": {
    "name": "ipython",
    "version": 2
   },
   "file_extension": ".py",
   "mimetype": "text/x-python",
   "name": "python",
   "nbconvert_exporter": "python",
   "pygments_lexer": "ipython2",
   "version": "2.7.6"
  }
 },
 "nbformat": 4,
 "nbformat_minor": 0
}
