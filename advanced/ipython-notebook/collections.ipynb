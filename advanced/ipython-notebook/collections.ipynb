{
 "cells": [
  {
   "cell_type": "code",
   "execution_count": 1,
   "metadata": {
    "collapsed": true
   },
   "outputs": [],
   "source": [
    "from collections import *"
   ]
  },
  {
   "cell_type": "markdown",
   "metadata": {},
   "source": [
    "> 将平时常用的collections方法的小例子都列出来"
   ]
  },
  {
   "cell_type": "code",
   "execution_count": 3,
   "metadata": {},
   "outputs": [
    {
     "name": "stdout",
     "output_type": "stream",
     "text": [
      "Regular dict:\nA 1\nC 3\nB 2\nOrdered dict:\nA 1\nB 2\nC 3\n"
     ]
    }
   ],
   "source": [
    "# use OrderedDict\n",
    "items = (('A', 1), ('B', 2), ('C', 3))\n",
    "\n",
    "regular_dict = dict(items)\n",
    "\n",
    "ordered_dict = OrderedDict(items)\n",
    "\n",
    "print 'Regular dict:'\n",
    "for k, v in regular_dict.items():\n",
    "    print k, v\n",
    "\n",
    "print 'Ordered dict:'\n",
    "for k, v in ordered_dict.items():\n",
    "    print k, v\n"
   ]
  },
  {
   "cell_type": "code",
   "execution_count": 8,
   "metadata": {
    "collapsed": true
   },
   "outputs": [
    {
     "name": "stdout",
     "output_type": "stream",
     "text": [
      "_Website(name='Sohu', url='http://www.google.com/', founder=u'\\u5f20\\u671d\\u9633')\n_Website(name='Sina', url='http://www.sina.com.cn/', founder=u'\\u738b\\u5fd7\\u4e1c')\n_Website(name='163', url='http://www.163.com/', founder=u'\\u4e01\\u78ca')\n"
     ]
    }
   ],
   "source": [
    "# use namedtuple\n",
    "websites = [\n",
    "    ('Sohu', 'http://www.google.com/', u'张朝阳'),\n",
    "    ('Sina', 'http://www.sina.com.cn/', u'王志东'),\n",
    "    ('163', 'http://www.163.com/', u'丁磊')\n",
    "]\n",
    "\n",
    "Website = namedtuple('_Website', ['name', 'url', 'founder'])\n",
    "\n",
    "for website in websites:\n",
    "    website = Website._make(website)\n",
    "    print website"
   ]
  },
  {
   "cell_type": "code",
   "execution_count": 10,
   "metadata": {},
   "outputs": [
    {
     "name": "stdout",
     "output_type": "stream",
     "text": [
      "\r>=======================\n"
     ]
    },
    {
     "name": "stdout",
     "output_type": "stream",
     "text": [
      "\r>=======================\n"
     ]
    },
    {
     "name": "stdout",
     "output_type": "stream",
     "text": [
      "\r>=======================\n"
     ]
    },
    {
     "name": "stdout",
     "output_type": "stream",
     "text": [
      "\r>=======================\n"
     ]
    },
    {
     "name": "stdout",
     "output_type": "stream",
     "text": [
      "\r>=======================\n"
     ]
    },
    {
     "name": "stdout",
     "output_type": "stream",
     "text": [
      "\r>=======================\n"
     ]
    },
    {
     "name": "stdout",
     "output_type": "stream",
     "text": [
      "\r>=======================\n"
     ]
    },
    {
     "name": "stdout",
     "output_type": "stream",
     "text": [
      "\r>=======================\n"
     ]
    },
    {
     "name": "stdout",
     "output_type": "stream",
     "text": [
      "\r>=======================\n"
     ]
    },
    {
     "name": "stdout",
     "output_type": "stream",
     "text": [
      "\r>=======================\n"
     ]
    },
    {
     "name": "stdout",
     "output_type": "stream",
     "text": [
      "\r>=======================\n"
     ]
    },
    {
     "name": "stdout",
     "output_type": "stream",
     "text": [
      "\r>=======================\n"
     ]
    },
    {
     "name": "stdout",
     "output_type": "stream",
     "text": [
      "\r>=======================\n"
     ]
    }
   ],
   "source": [
    "# use deque\n",
    "import sys\n",
    "import time\n",
    "\n",
    "fancy_loading = deque('>=======================')\n",
    "\n",
    "count = 13\n",
    "while count:\n",
    "    print '\\r%s' % ''.join(fancy_loading)\n",
    "    sys.stdout.flush()\n",
    "    time.sleep(0.08)\n",
    "    count -= 1"
   ]
  },
  {
   "cell_type": "code",
   "execution_count": 14,
   "metadata": {},
   "outputs": [
    {
     "name": "stdout",
     "output_type": "stream",
     "text": [
      "Counter({' ': 54, 'e': 33, 's': 27, 'a': 24, 't': 24, 'o': 22, 'n': 21, 'i': 20, 'r': 20, 'c': 15, 'l': 14, 'u': 14, 'd': 10, 'g': 7, 'h': 6, 'b': 5, '.': 4, 'y': 4, 'm': 3, 'v': 3, 'w': 2, '_': 1, 'f': 1, 'k': 1, 'j': 1, 'z': 1})\n"
     ]
    }
   ],
   "source": [
    "s = 'A Counter is a dict subclass for counting hashable objects. ' \\\n",
    "    'It is an unordered use_collections where elements are stored as ' \\\n",
    "    'dictionary keys and their counts are stored as dictionary values. ' \\\n",
    "    'Counts are allowed to be any integer value including zero or negative counts. ' \\\n",
    "    'The Counter class is similar to bags or multisets in other languages.'.lower()\n",
    "\n",
    "c = Counter(s)\n",
    "\n",
    "print c\n"
   ]
  },
  {
   "cell_type": "code",
   "execution_count": null,
   "metadata": {},
   "outputs": [],
   "source": []
  },
  {
   "cell_type": "code",
   "execution_count": null,
   "metadata": {},
   "outputs": [],
   "source": []
  }
 ],
 "metadata": {
  "kernelspec": {
   "display_name": "Python 2",
   "language": "python",
   "name": "python2"
  },
  "language_info": {
   "codemirror_mode": {
    "name": "ipython",
    "version": 2
   },
   "file_extension": ".py",
   "mimetype": "text/x-python",
   "name": "python",
   "nbconvert_exporter": "python",
   "pygments_lexer": "ipython2",
   "version": "2.7.6"
  }
 },
 "nbformat": 4,
 "nbformat_minor": 0
}
