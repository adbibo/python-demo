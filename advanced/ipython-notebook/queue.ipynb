{
 "cells": [
  {
   "cell_type": "code",
   "execution_count": 1,
   "metadata": {
    "collapsed": true
   },
   "outputs": [
    {
     "name": "stdout",
     "output_type": "stream",
     "text": [
      "0\n1\n2\n3\n4\n"
     ]
    }
   ],
   "source": [
    "import Queue\n",
    "\n",
    "q = Queue.Queue()\n",
    "\n",
    "for i in range(5):\n",
    "    q.put(i)\n",
    "\n",
    "while not q.empty():\n",
    "    print q.get()"
   ]
  },
  {
   "cell_type": "code",
   "execution_count": 3,
   "metadata": {},
   "outputs": [
    {
     "name": "stdout",
     "output_type": "stream",
     "text": [
      "4\n3\n2\n1\n0\n"
     ]
    }
   ],
   "source": [
    "q = Queue.LifoQueue()\n",
    "\n",
    "for i in range(5):\n",
    "    q.put(i)\n",
    "\n",
    "while not q.empty():\n",
    "    print q.get()"
   ]
  },
  {
   "cell_type": "code",
   "execution_count": 4,
   "metadata": {},
   "outputs": [
    {
     "name": "stdout",
     "output_type": "stream",
     "text": [
      "Job: level 3 job\nJob:for:  for:level 10 joblevel 1 job \n\nlevel 10 jobJob:for:\n  level 1 joblevel 3 job\n\n"
     ]
    }
   ],
   "source": [
    "import threading\n",
    "\n",
    "\n",
    "class Job(object):\n",
    "    def __init__(self, priority, description):\n",
    "        self.priority = priority\n",
    "        self.description = description\n",
    "        print 'Job:', description\n",
    "        return\n",
    "\n",
    "    def __cmp__(self, other):\n",
    "        return cmp(self.priority, other.priority)\n",
    "\n",
    "\n",
    "q = Queue.PriorityQueue()\n",
    "\n",
    "q.put(Job(3, 'level 3 job'))\n",
    "q.put(Job(10, 'level 10 job'))\n",
    "q.put(Job(1, 'level 1 job'))\n",
    "\n",
    "\n",
    "def process_job(q):\n",
    "    while True:\n",
    "        next_job = q.get()\n",
    "        print 'for:', next_job.description\n",
    "        q.task_done()\n",
    "\n",
    "\n",
    "workers = [threading.Thread(target=process_job, args=(q,)), threading.Thread(target=process_job, args=(q,))]\n",
    "\n",
    "for w in workers:\n",
    "    w.setDaemon(True)\n",
    "    w.start()\n",
    "\n",
    "q.join()"
   ]
  },
  {
   "cell_type": "code",
   "execution_count": null,
   "metadata": {},
   "outputs": [],
   "source": [
    ""
   ]
  }
 ],
 "metadata": {
  "kernelspec": {
   "display_name": "Python 2",
   "language": "python",
   "name": "python2"
  },
  "language_info": {
   "codemirror_mode": {
    "name": "ipython",
    "version": 2
   },
   "file_extension": ".py",
   "mimetype": "text/x-python",
   "name": "python",
   "nbconvert_exporter": "python",
   "pygments_lexer": "ipython2",
   "version": "2.7.6"
  }
 },
 "nbformat": 4,
 "nbformat_minor": 0
}
