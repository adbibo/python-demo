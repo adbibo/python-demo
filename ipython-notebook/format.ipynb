{
 "cells": [
  {
   "cell_type": "code",
   "execution_count": null,
   "metadata": {
    "collapsed": true
   },
   "outputs": [],
   "source": [
    "#!/usr/bin/env python\n",
    "# -*- coding=utf-8 -*-\n",
    "\n",
    "\n",
    "# %操作符格式化字符串时有如下几种常见用法：\n",
    "#\n",
    "# 1）直接格式化字符或者数值。\n",
    "string = '%s' % 'tt'\n",
    "\n",
    "# 2）以元组的形式格式化。\n",
    "string = '%s %s' % ('tt', '11')\n",
    "\n",
    "# 3）以字典的形式格式化。\n",
    "string = '%(a)s %(b)s' % {\n",
    "    'a': 't',\n",
    "    'b': 'tt'\n",
    "}\n",
    "\n",
    "# format方法几种常见的用法如下：\n",
    "#\n",
    "# 1）使用位置符号。\n",
    "string = '{1}  {0}'.format('tt', 'tt2')\n",
    "\n",
    "# 2）使用名称。\n",
    "\n",
    "\n",
    "# 3）通过属性。\n",
    "string = '{a.b}, ..'.format(a)\n",
    "\n",
    "# 4）格式化元组的具体项。"
   ]
  }
 ],
 "metadata": {
  "kernelspec": {
   "display_name": "Python 2",
   "language": "python",
   "name": "python2"
  },
  "language_info": {
   "codemirror_mode": {
    "name": "ipython",
    "version": 2
   },
   "file_extension": ".py",
   "mimetype": "text/x-python",
   "name": "python",
   "nbconvert_exporter": "python",
   "pygments_lexer": "ipython2",
   "version": "2.7.6"
  }
 },
 "nbformat": 4,
 "nbformat_minor": 0
}
