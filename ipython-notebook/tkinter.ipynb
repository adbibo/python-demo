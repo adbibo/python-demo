{
 "cells": [
  {
   "cell_type": "code",
   "execution_count": 1,
   "metadata": {
    "collapsed": true
   },
   "outputs": [],
   "source": [
    "import Tkinter\n",
    "top = Tkinter.Tk()\n",
    "# 进入消息循环\n",
    "top.mainloop()"
   ]
  },
  {
   "cell_type": "code",
   "execution_count": 2,
   "metadata": {},
   "outputs": [],
   "source": [
    "from Tkinter import *  # 导入 Tkinter 库\n",
    "\n",
    "root = Tk()  # 创建窗口对象的背景色\n",
    "# 创建两个列表\n",
    "li = ['C', 'python', 'php', 'html', 'SQL', 'java']\n",
    "sorted(li)\n",
    "movie = ['CSS', 'jQuery', 'Bootstrap']\n",
    "listb = Listbox(root)  # 创建两个列表组件\n",
    "listb2 = Listbox(root)\n",
    "for item in li:  # 第一个小部件插入数据\n",
    "    listb.insert(0, item)\n",
    "\n",
    "for item in movie:  # 第二个小部件插入数据\n",
    "    listb2.insert(0, item)\n",
    "\n",
    "listb.pack()  # 将小部件放置到主窗口中\n",
    "listb2.pack()\n",
    "root.mainloop()  # 进入消息循环"
   ]
  },
  {
   "cell_type": "code",
   "execution_count": 2,
   "metadata": {},
   "outputs": [
    {
     "name": "stdout",
     "output_type": "stream",
     "text": [
      "[1, 3, 4, 5] 5\n[1, 2, 3, 4, 5] 3\n[7, 8, 9, 11] 9\n"
     ]
    }
   ],
   "source": [
    "info_dict = {'A':[1,3,4,5], 'B': [7,8,9,11], 'C':[1,2,3,4,5]}\n",
    "\n",
    "for k,v in info_dict.items():\n",
    "    length = len(v)\n",
    "    if length < 3:\n",
    "        print k, 'has not continue numbers'\n",
    "        continue\n",
    "    \n",
    "    for index in range(length-2):\n",
    "        if sum(v[index:index+3])/3 == v[index+1]:\n",
    "            print v, v[index+2]\n",
    "            break"
   ]
  },
  {
   "cell_type": "code",
   "execution_count": null,
   "metadata": {},
   "outputs": [],
   "source": [
    ""
   ]
  }
 ],
 "metadata": {
  "kernelspec": {
   "display_name": "Python 2",
   "language": "python",
   "name": "python2"
  },
  "language_info": {
   "codemirror_mode": {
    "name": "ipython",
    "version": 2.0
   },
   "file_extension": ".py",
   "mimetype": "text/x-python",
   "name": "python",
   "nbconvert_exporter": "python",
   "pygments_lexer": "ipython2",
   "version": "2.7.6"
  }
 },
 "nbformat": 4,
 "nbformat_minor": 0
}